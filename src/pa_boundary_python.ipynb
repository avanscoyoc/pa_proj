{
 "cells": [
  {
   "cell_type": "markdown",
   "id": "35d0a6c0",
   "metadata": {},
   "source": [
    "# Protected Area Boundary Change\n",
    "\n",
    "This notebook outlines the methodology used to measure at protected area boundaries via GEE. \n",
    "\n",
    "The notebook queries MODIS imagery and returns the gradient values of relevant bands as well as the vegetation indices NDVI and EVI. This code expects an annual time span and returns a geoTIFF for each band in each park for that year."
   ]
  },
  {
   "cell_type": "code",
   "execution_count": 1,
   "id": "e9def359",
   "metadata": {},
   "outputs": [],
   "source": [
    "from utils import *\n",
    "from config import *\n",
    "import pandas as pd\n",
    "from datetime import datetime"
   ]
  },
  {
   "cell_type": "code",
   "execution_count": null,
   "id": "444f8a37",
   "metadata": {},
   "outputs": [],
   "source": [
    "import ee\n",
    "ee.Authenticate()\n",
    "ee.Initialize(project='dse-staff')\n",
    "print(ee.String('Hello from the Earth Engine servers!').getInfo())"
   ]
  },
  {
   "cell_type": "markdown",
   "id": "b27dcb55",
   "metadata": {},
   "source": [
    "## Class Definitions"
   ]
  },
  {
   "cell_type": "code",
   "execution_count": null,
   "id": "7c2c945c",
   "metadata": {},
   "outputs": [],
   "source": [
    "def main(wdpaid, year, show_map=False, band_name=None):\n",
    "    \"\"\"Main function to process protected area boundary analysis\"\"\"\n",
    "    # Initialize classes\n",
    "    geo_ops = GeometryOperations()\n",
    "    img_ops = ImageOperations()\n",
    "    stats_ops = StatsOperations()\n",
    "    viz = Visualization()\n",
    "    feature_processor = FeatureProcessor(geo_ops, img_ops, stats_ops)\n",
    "    exporter = ExportResults()\n",
    "\n",
    "    # Load and process protected area geometry\n",
    "    pa = load_local_data(wdpaid)\n",
    "    pa_geometry = pa.geometry()\n",
    "    aoi = geo_ops.buffer_polygon(pa_geometry)\n",
    "    aoi = geo_ops.mask_water(aoi)\n",
    "    aoi_with_biome = geo_ops.get_biome(aoi)\n",
    "\n",
    "    # Process imagery and add indices\n",
    "    modis_ic = img_ops.modis.filter(img_ops.filter_for_year(aoi, year))\n",
    "    band_names = modis_ic.first().bandNames()\n",
    "    composite = modis_ic.reduce(ee.Reducer.median()).rename(band_names).clip(aoi)\n",
    "    image = img_ops.add_indices_to_image(composite)\n",
    "\n",
    "    # Process features and collect statistics\n",
    "    feature_info = feature_processor.collect_feature_info(pa, aoi_with_biome)\n",
    "    computed_stats = feature_processor.process_all_bands(image, pa_geometry)\n",
    "    all_stats = feature_processor.compile_statistics(feature_info, computed_stats, year)\n",
    "    \n",
    "    # Save results\n",
    "    #df, _ = exporter.save_statistics_to_csv(all_stats, wdpaid, year)\n",
    "    df = pd.DataFrame(all_stats)\n",
    "    exporter.save_df_to_gcs(df, 'dse-staff', wdpaid, year)\n",
    "\n",
    "    # Visualization\n",
    "    if show_map:\n",
    "        band_stats = next(cs for cs in computed_stats if cs[\"band_name\"] == band_name)\n",
    "        Map = viz.create_map(pa_geometry, band_stats['gradient'], band_stats['boundary_pixels'])\n",
    "    \n",
    "    return Map"
   ]
  },
  {
   "cell_type": "code",
   "execution_count": null,
   "id": "a13805cb",
   "metadata": {},
   "outputs": [],
   "source": [
    "Map = main(\"916\", 2010, show_map=True, band_name=\"EVI\")\n",
    "Map"
   ]
  },
  {
   "cell_type": "code",
   "execution_count": null,
   "id": "2c45aeaf",
   "metadata": {},
   "outputs": [],
   "source": [
    "try:\n",
    "    # Load and verify geometry\n",
    "    pa = load_local_data(\"367731\")\n",
    "    pa2 = load_protected_area(\"367731\")\n",
    "    print(\"1. Successfully loaded protected area\")\n",
    "    \n",
    "    # Create map with debug prints\n",
    "    import geemap\n",
    "    Map = geemap.Map()\n",
    "    print(\"2. Created base map\")\n",
    "    \n",
    "    # Add basemap and geometry with error checking\n",
    "    try:\n",
    "        Map.add_basemap('HYBRID')\n",
    "        Map.addLayer(\n",
    "            ee.FeatureCollection([pa]), \n",
    "            {'color': 'red', 'fillColor': '#ff000033', 'width': 2},\n",
    "            'Protected Area'\n",
    "        )\n",
    "        Map.addLayer(\n",
    "            ee.FeatureCollection([pa2]), \n",
    "            {'color': 'blue', 'fillColor': '#ff000033', 'width': 2},\n",
    "            'Protected Area2'\n",
    "        )\n",
    "        bounds = pa.geometry().bounds()\n",
    "        Map.centerObject(bounds, zoom=8)\n",
    "        display(Map)\n",
    "        print(\"3. Map displayed successfully\")\n",
    "        \n",
    "    except Exception as e:\n",
    "        print(f\"Map visualization error: {e}\")\n",
    "        \n",
    "except Exception as e:\n",
    "    print(f\"Error: {e}\")\n",
    "    if 'pa' in locals():\n",
    "        print(\"\\nDebug info:\")\n",
    "        print(f\"Feature type: {type(pa)}\")\n",
    "        print(f\"Properties: {pa.propertyNames().getInfo()}\")\n"
   ]
  },
  {
   "cell_type": "markdown",
   "id": "b13201eb",
   "metadata": {},
   "source": [
    "-add write out for each step, with identifier for each park\n",
    "-ray to run in parallel in python\n",
    "-use glance to check usage"
   ]
  }
 ],
 "metadata": {
  "kernelspec": {
   "display_name": "Python 3",
   "language": "python",
   "name": "python3"
  },
  "language_info": {
   "codemirror_mode": {
    "name": "ipython",
    "version": 3
   },
   "file_extension": ".py",
   "mimetype": "text/x-python",
   "name": "python",
   "nbconvert_exporter": "python",
   "pygments_lexer": "ipython3",
   "version": "3.10.12"
  }
 },
 "nbformat": 4,
 "nbformat_minor": 5
}
